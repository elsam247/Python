{
 "cells": [
  {
   "cell_type": "code",
   "execution_count": null,
   "id": "a568ee46",
   "metadata": {},
   "outputs": [],
   "source": []
  },
  {
   "cell_type": "code",
   "execution_count": 8,
   "id": "0041e2e0",
   "metadata": {},
   "outputs": [
    {
     "data": {
      "text/plain": [
       "31"
      ]
     },
     "execution_count": 8,
     "metadata": {},
     "output_type": "execute_result"
    }
   ],
   "source": [
    "#python is a high level programming language that is used for different purposes\n",
    "x = 19\n",
    "y = 12\n",
    "x + y"
   ]
  },
  {
   "cell_type": "markdown",
   "id": "5a9be442",
   "metadata": {},
   "source": []
  },
  {
   "cell_type": "markdown",
   "id": "66d473de",
   "metadata": {},
   "source": [
    "###what are we doing today"
   ]
  },
  {
   "cell_type": "code",
   "execution_count": 9,
   "id": "3a28423d",
   "metadata": {},
   "outputs": [],
   "source": [
    "name = 'n-tech'\n",
    "Name = 'N-Tech'"
   ]
  },
  {
   "cell_type": "code",
   "execution_count": 10,
   "id": "8fec680c",
   "metadata": {},
   "outputs": [
    {
     "data": {
      "text/plain": [
       "'n-tech'"
      ]
     },
     "execution_count": 10,
     "metadata": {},
     "output_type": "execute_result"
    }
   ],
   "source": [
    "name\n"
   ]
  },
  {
   "cell_type": "code",
   "execution_count": 11,
   "id": "eac5177d",
   "metadata": {},
   "outputs": [
    {
     "data": {
      "text/plain": [
       "'N-Tech'"
      ]
     },
     "execution_count": 11,
     "metadata": {},
     "output_type": "execute_result"
    }
   ],
   "source": [
    "Name"
   ]
  },
  {
   "cell_type": "code",
   "execution_count": 12,
   "id": "b10853fb",
   "metadata": {},
   "outputs": [
    {
     "data": {
      "text/plain": [
       "False"
      ]
     },
     "execution_count": 12,
     "metadata": {},
     "output_type": "execute_result"
    }
   ],
   "source": [
    "name = 'n-tech'\n",
    "Name = 'N-Tech'\n",
    "name == Name"
   ]
  },
  {
   "cell_type": "code",
   "execution_count": null,
   "id": "98795b19",
   "metadata": {},
   "outputs": [],
   "source": []
  },
  {
   "cell_type": "code",
   "execution_count": 13,
   "id": "5ef202a5",
   "metadata": {},
   "outputs": [
    {
     "data": {
      "text/plain": [
       "'n-tech'"
      ]
     },
     "execution_count": 13,
     "metadata": {},
     "output_type": "execute_result"
    }
   ],
   "source": [
    "name"
   ]
  },
  {
   "cell_type": "code",
   "execution_count": 14,
   "id": "f0e429b9",
   "metadata": {},
   "outputs": [
    {
     "data": {
      "text/plain": [
       "True"
      ]
     },
     "execution_count": 14,
     "metadata": {},
     "output_type": "execute_result"
    }
   ],
   "source": [
    "y = 20\n",
    "x = 20\n",
    "x == y"
   ]
  },
  {
   "cell_type": "code",
   "execution_count": 15,
   "id": "e9bc9b40",
   "metadata": {},
   "outputs": [
    {
     "ename": "SyntaxError",
     "evalue": "invalid syntax (1636829855.py, line 2)",
     "output_type": "error",
     "traceback": [
      "\u001b[1;36m  Cell \u001b[1;32mIn[15], line 2\u001b[1;36m\u001b[0m\n\u001b[1;33m    Python variables are containers that store values. we do not need to declare variables before using them.\u001b[0m\n\u001b[1;37m           ^\u001b[0m\n\u001b[1;31mSyntaxError\u001b[0m\u001b[1;31m:\u001b[0m invalid syntax\n"
     ]
    }
   ],
   "source": [
    "# VARIABLES\n",
    "Python variables are containers that store values. we do not need to declare variables before using them."
   ]
  },
  {
   "cell_type": "code",
   "execution_count": null,
   "id": "01501458-ac5a-41dc-8561-73befc5478d3",
   "metadata": {},
   "outputs": [],
   "source": [
    "x = 50\n",
    "y = 70"
   ]
  },
  {
   "cell_type": "code",
   "execution_count": null,
   "id": "2c0fc17e-8228-4fb4-abc2-6a1c8d39d650",
   "metadata": {},
   "outputs": [],
   "source": [
    "RULES THAT GOVERN VARIABLES\n",
    "A Python variable name must start with a letter or underscore character\n",
    "A Python variable name cannot start with a number\n",
    "A Python variable name can only contain alphanumeric characters and underscores (a - z), 0 - 9 and the underscore symbol (_)\n",
    "Variable in Python are case-sensitive \n",
    "The reserved word (keywords) in Python cannot be used as variable names   "
   ]
  },
  {
   "cell_type": "code",
   "execution_count": null,
   "id": "fa4ee49b-80bc-4e6b-a89d-cc7eb1e3f2f4",
   "metadata": {},
   "outputs": [],
   "source": [
    "DATA TYPE\n",
    "Data type in python are the classification or categorization of data items\n",
    "since everything is an object in python, python data types are classes and variable are instances of those classes\n",
    "Data types\n",
    "numeric - numbers\n",
    "sequence \n",
    "boolean (true or false)\n",
    "set \n",
    "dictionary \n",
    "\n",
    "NUMERIC\n",
    "The numeric data type in python represents the data that has numeric value. the numeric value can be integer, float or complex number "
   ]
  },
  {
   "cell_type": "code",
   "execution_count": null,
   "id": "2bc5c757-cce8-4a71-9c5e-d2d5fb8182a9",
   "metadata": {},
   "outputs": [],
   "source": [
    "x = 5\n",
    "print('My data type is:',type (x))"
   ]
  },
  {
   "cell_type": "code",
   "execution_count": null,
   "id": "1ca269a7-491f-480d-8e23-c107580dc0f3",
   "metadata": {},
   "outputs": [],
   "source": [
    "y = 0.5\n",
    "print ('My data type is:',type (y))"
   ]
  },
  {
   "cell_type": "markdown",
   "id": "87143682-981f-49b5-a459-40b7d826e5d8",
   "metadata": {},
   "source": [
    "The sequence data type in Python is the ordered collection of similar or data type \n",
    "sequence allow the storing of multiple values in an organized and efficient fashion"
   ]
  },
  {
   "cell_type": "markdown",
   "id": "9b486bd8-eb82-4a47-9009-cbc6a1ca7a70",
   "metadata": {},
   "source": [
    "## STRING, LIST AND TUPLE\n",
    "String in Python are arrays of bit representing Unicode characters \n",
    "A string is a collection of one or more characters put in a single quote, double quote, or triple quote"
   ]
  },
  {
   "cell_type": "code",
   "execution_count": null,
   "id": "1cb9a7b6-7686-4d41-be00-e8fc0b6d48c8",
   "metadata": {},
   "outputs": [],
   "source": [
    "p = 2.5\n",
    "q = 7\n",
    "type (p)"
   ]
  },
  {
   "cell_type": "code",
   "execution_count": null,
   "id": "d999281b-111c-43bf-9785-cf28bc3e7ec6",
   "metadata": {},
   "outputs": [],
   "source": [
    "p == q"
   ]
  },
  {
   "cell_type": "code",
   "execution_count": null,
   "id": "94e1dd76-1e07-475d-98ac-97eb804deac6",
   "metadata": {},
   "outputs": [],
   "source": [
    "y = 6\n",
    "z = 6\n",
    "y==z"
   ]
  },
  {
   "cell_type": "code",
   "execution_count": null,
   "id": "68cb6326-586d-44b4-8df2-5f486cb923e4",
   "metadata": {},
   "outputs": [],
   "source": [
    "y = 'Samuel'"
   ]
  },
  {
   "cell_type": "code",
   "execution_count": null,
   "id": "08eca9ce-0bbb-4c0a-8b1d-1c187370939d",
   "metadata": {},
   "outputs": [],
   "source": [
    "print (y)"
   ]
  },
  {
   "cell_type": "code",
   "execution_count": null,
   "id": "d4e4b105-6ef3-4eb6-957c-a4f4432f95de",
   "metadata": {},
   "outputs": [],
   "source": [
    "print(y[4])"
   ]
  },
  {
   "cell_type": "markdown",
   "id": "a32b24c6-a004-4662-95bf-2d90dda8ca24",
   "metadata": {},
   "source": [
    "## LIST\n",
    "Lists are just like arrays. It is very flexible as the items in a list do not need to be of the same type. A list in Python can be created just by placing the sequence inside the square bracket"
   ]
  },
  {
   "cell_type": "code",
   "execution_count": null,
   "id": "087ae83d-c7be-45f6-8f25-0e99121acfb2",
   "metadata": {},
   "outputs": [],
   "source": [
    "cities = [\"Lagos\", \"Abuja\", \"PortHarcourt\", \"Ibadan\", \"Enugu\"]\n",
    "print (cities)"
   ]
  },
  {
   "cell_type": "code",
   "execution_count": null,
   "id": "99ec49a8-7763-4c08-ad90-8cbf84dd7875",
   "metadata": {},
   "outputs": [],
   "source": [
    "cities = [\"Lagos\", \"Abuja\", \"PortHarcourt\", \"Ibadan\", 10.5]\n",
    "print (cities)"
   ]
  },
  {
   "cell_type": "code",
   "execution_count": null,
   "id": "f30d4214-7639-451d-9bef-d70fdf1a8f6c",
   "metadata": {},
   "outputs": [],
   "source": [
    "## Python list are mutable "
   ]
  },
  {
   "cell_type": "code",
   "execution_count": null,
   "id": "4e304abe-d328-4f09-a1be-f23e2442625d",
   "metadata": {},
   "outputs": [],
   "source": [
    "## TUPLE\n",
    "A tuple is just like a list. the only difference between tuple and a list is that a tuple is immutable, rigid. And also they can be created by placing the sequence inside the parenteces"
   ]
  },
  {
   "cell_type": "code",
   "execution_count": null,
   "id": "1b9207ac-8265-4062-89b2-149feb01d722",
   "metadata": {},
   "outputs": [],
   "source": [
    "Locations = (\"Lagos\", \"Abuja\", \"PortHarcourt\", \"Ibadan\", \"Enugu\")\n",
    "print (Locations)"
   ]
  },
  {
   "cell_type": "code",
   "execution_count": null,
   "id": "077d6ef2-17b7-4ced-8a33-b8651ffe33f0",
   "metadata": {},
   "outputs": [],
   "source": []
  },
  {
   "cell_type": "markdown",
   "id": "9b1d9335-5354-4293-8c6f-1a4f2a68487e",
   "metadata": {},
   "source": [
    "## DICTIONARIES\n",
    "A dictionary in Python is an unordered collection of data values used to store data values. Unlike other data types like a map that holds a single value as an element. \n",
    "A dictionary as an element holds a key: value pair. Each key: value pair is separated by a column, whereas each key is separated by comma."
   ]
  },
  {
   "cell_type": "markdown",
   "id": "a341852e-7e30-489c-9d84-14487a1d5b6e",
   "metadata": {},
   "source": [
    "## To create a Python Dictionary "
   ]
  },
  {
   "cell_type": "markdown",
   "id": "67c949db-d61b-447b-b025-263bd069c16f",
   "metadata": {},
   "source": [
    "In Python, a dictionary can be created by placing a sequence of elements within a curly bracket separated by commas. \n",
    "Values in a dictionary can be of any data type and can be duplicated whereas keys cannot be repeated and must be immutable. The dictionary can also be created \n",
    "by the built-in function called dict (). Dictionaries keys are case-sensitive"
   ]
  },
  {
   "cell_type": "code",
   "execution_count": null,
   "id": "091c6641-8307-45a4-b47c-55b2fd60b924",
   "metadata": {},
   "outputs": [],
   "source": [
    "dict = {1:'Geeks', 2:'For', 3:'Geeks'}\n",
    "print (dict)\n",
    "        "
   ]
  },
  {
   "cell_type": "code",
   "execution_count": null,
   "id": "88e5a34b-a644-482b-9563-532b88d6538e",
   "metadata": {},
   "outputs": [],
   "source": [
    "import numpy as np\n",
    "import pandas as pd\n",
    "import matplotlib.pyplot as plt\n",
    "import seaborn as sns"
   ]
  },
  {
   "cell_type": "code",
   "execution_count": 35,
   "id": "b2a63247-cc7c-4f41-b904-74e482c0d86e",
   "metadata": {},
   "outputs": [
    {
     "data": {
      "text/html": [
       "<div>\n",
       "<style scoped>\n",
       "    .dataframe tbody tr th:only-of-type {\n",
       "        vertical-align: middle;\n",
       "    }\n",
       "\n",
       "    .dataframe tbody tr th {\n",
       "        vertical-align: top;\n",
       "    }\n",
       "\n",
       "    .dataframe thead th {\n",
       "        text-align: right;\n",
       "    }\n",
       "</style>\n",
       "<table border=\"1\" class=\"dataframe\">\n",
       "  <thead>\n",
       "    <tr style=\"text-align: right;\">\n",
       "      <th></th>\n",
       "      <th>Invoice ID,Branch,City,Customer type,Gender,Product line,Unit price,Quantity,Tax 5%,Total,Date,Time,Payment,cogs,gross margin percentage,gross income,Rating</th>\n",
       "    </tr>\n",
       "  </thead>\n",
       "  <tbody>\n",
       "    <tr>\n",
       "      <th>0</th>\n",
       "      <td>750-67-8428,A,Yangon,Member,Female,Health and ...</td>\n",
       "    </tr>\n",
       "    <tr>\n",
       "      <th>1</th>\n",
       "      <td>226-31-3081,C,Naypyitaw,Normal,Female,Electron...</td>\n",
       "    </tr>\n",
       "    <tr>\n",
       "      <th>2</th>\n",
       "      <td>631-41-3108,A,Yangon,Normal,Male,Home and life...</td>\n",
       "    </tr>\n",
       "    <tr>\n",
       "      <th>3</th>\n",
       "      <td>123-19-1176,A,Yangon,Member,Male,Health and be...</td>\n",
       "    </tr>\n",
       "    <tr>\n",
       "      <th>4</th>\n",
       "      <td>373-73-7910,A,Yangon,Normal,Male,Sports and tr...</td>\n",
       "    </tr>\n",
       "    <tr>\n",
       "      <th>...</th>\n",
       "      <td>...</td>\n",
       "    </tr>\n",
       "    <tr>\n",
       "      <th>995</th>\n",
       "      <td>233-67-5758,C,Naypyitaw,Normal,Male,Health and...</td>\n",
       "    </tr>\n",
       "    <tr>\n",
       "      <th>996</th>\n",
       "      <td>303-96-2227,B,Mandalay,Normal,Female,Home and ...</td>\n",
       "    </tr>\n",
       "    <tr>\n",
       "      <th>997</th>\n",
       "      <td>727-02-1313,A,Yangon,Member,Male,Food and beve...</td>\n",
       "    </tr>\n",
       "    <tr>\n",
       "      <th>998</th>\n",
       "      <td>347-56-2442,A,Yangon,Normal,Male,Home and life...</td>\n",
       "    </tr>\n",
       "    <tr>\n",
       "      <th>999</th>\n",
       "      <td>849-09-3807,A,Yangon,Member,Female,Fashion acc...</td>\n",
       "    </tr>\n",
       "  </tbody>\n",
       "</table>\n",
       "<p>1000 rows × 1 columns</p>\n",
       "</div>"
      ],
      "text/plain": [
       "    Invoice ID,Branch,City,Customer type,Gender,Product line,Unit price,Quantity,Tax 5%,Total,Date,Time,Payment,cogs,gross margin percentage,gross income,Rating\n",
       "0    750-67-8428,A,Yangon,Member,Female,Health and ...                                                                                                          \n",
       "1    226-31-3081,C,Naypyitaw,Normal,Female,Electron...                                                                                                          \n",
       "2    631-41-3108,A,Yangon,Normal,Male,Home and life...                                                                                                          \n",
       "3    123-19-1176,A,Yangon,Member,Male,Health and be...                                                                                                          \n",
       "4    373-73-7910,A,Yangon,Normal,Male,Sports and tr...                                                                                                          \n",
       "..                                                 ...                                                                                                          \n",
       "995  233-67-5758,C,Naypyitaw,Normal,Male,Health and...                                                                                                          \n",
       "996  303-96-2227,B,Mandalay,Normal,Female,Home and ...                                                                                                          \n",
       "997  727-02-1313,A,Yangon,Member,Male,Food and beve...                                                                                                          \n",
       "998  347-56-2442,A,Yangon,Normal,Male,Home and life...                                                                                                          \n",
       "999  849-09-3807,A,Yangon,Member,Female,Fashion acc...                                                                                                          \n",
       "\n",
       "[1000 rows x 1 columns]"
      ]
     },
     "execution_count": 35,
     "metadata": {},
     "output_type": "execute_result"
    }
   ],
   "source": [
    "pd.read_csv(r'C:\\Users\\EL-SAMARC\\Desktop\\newwww\\supermarket.csv')"
   ]
  },
  {
   "cell_type": "code",
   "execution_count": 34,
   "id": "dace9da4-b925-4e46-a8d3-4431576e20c4",
   "metadata": {},
   "outputs": [
    {
     "data": {
      "text/html": [
       "<div>\n",
       "<style scoped>\n",
       "    .dataframe tbody tr th:only-of-type {\n",
       "        vertical-align: middle;\n",
       "    }\n",
       "\n",
       "    .dataframe tbody tr th {\n",
       "        vertical-align: top;\n",
       "    }\n",
       "\n",
       "    .dataframe thead th {\n",
       "        text-align: right;\n",
       "    }\n",
       "</style>\n",
       "<table border=\"1\" class=\"dataframe\">\n",
       "  <thead>\n",
       "    <tr style=\"text-align: right;\">\n",
       "      <th></th>\n",
       "      <th>Invoice ID</th>\n",
       "      <th>Branch</th>\n",
       "      <th>City</th>\n",
       "      <th>Customer type</th>\n",
       "      <th>Product line</th>\n",
       "      <th>Unit price</th>\n",
       "      <th>Quantity</th>\n",
       "      <th>Review Quantity</th>\n",
       "      <th>Check</th>\n",
       "      <th>Tax 5%</th>\n",
       "      <th>Total</th>\n",
       "      <th>Date</th>\n",
       "      <th>Time</th>\n",
       "      <th>Payment</th>\n",
       "      <th>cogs</th>\n",
       "      <th>gross margin percentage</th>\n",
       "      <th>gross income</th>\n",
       "      <th>Rating</th>\n",
       "    </tr>\n",
       "  </thead>\n",
       "  <tbody>\n",
       "    <tr>\n",
       "      <th>0</th>\n",
       "      <td>750-67-8428</td>\n",
       "      <td>R1C1</td>\n",
       "      <td>Yangon</td>\n",
       "      <td>Customer</td>\n",
       "      <td>Health and beauty</td>\n",
       "      <td>67.99</td>\n",
       "      <td>7.0</td>\n",
       "      <td>7</td>\n",
       "      <td>NaN</td>\n",
       "      <td>23.8%</td>\n",
       "      <td>$475.93</td>\n",
       "      <td>1/5/2019</td>\n",
       "      <td>1:08:00 PM</td>\n",
       "      <td>Ewallet</td>\n",
       "      <td>522.83</td>\n",
       "      <td>4.761905</td>\n",
       "      <td>26.1415</td>\n",
       "      <td>9.1</td>\n",
       "    </tr>\n",
       "    <tr>\n",
       "      <th>1</th>\n",
       "      <td>226-31-3081</td>\n",
       "      <td>C</td>\n",
       "      <td>Naypyitaw</td>\n",
       "      <td>Normal</td>\n",
       "      <td>Electronic \\naccessories</td>\n",
       "      <td>15.28</td>\n",
       "      <td>5.0</td>\n",
       "      <td>5</td>\n",
       "      <td>NaN</td>\n",
       "      <td>3.8%</td>\n",
       "      <td>$76.40</td>\n",
       "      <td>3/8/2019</td>\n",
       "      <td>10:29:00 AM</td>\n",
       "      <td>Cash</td>\n",
       "      <td>76.40</td>\n",
       "      <td>4.761905</td>\n",
       "      <td>3.8200</td>\n",
       "      <td>9.6</td>\n",
       "    </tr>\n",
       "    <tr>\n",
       "      <th>2</th>\n",
       "      <td>631-41-3108</td>\n",
       "      <td>A</td>\n",
       "      <td>Yangon</td>\n",
       "      <td>Normal</td>\n",
       "      <td>Home and lifestyle</td>\n",
       "      <td>46.33</td>\n",
       "      <td>7.0</td>\n",
       "      <td>7</td>\n",
       "      <td>NaN</td>\n",
       "      <td>16.2%</td>\n",
       "      <td>$324.31</td>\n",
       "      <td>3/3/2019</td>\n",
       "      <td>1:23:00 PM</td>\n",
       "      <td>Credit card</td>\n",
       "      <td>324.31</td>\n",
       "      <td>NaN</td>\n",
       "      <td>16.2155</td>\n",
       "      <td>7.4</td>\n",
       "    </tr>\n",
       "    <tr>\n",
       "      <th>3</th>\n",
       "      <td>123-19-1176</td>\n",
       "      <td>A</td>\n",
       "      <td>Yangon</td>\n",
       "      <td>Customer</td>\n",
       "      <td>Health and beauty</td>\n",
       "      <td>58.22</td>\n",
       "      <td>8.0</td>\n",
       "      <td>8</td>\n",
       "      <td>NaN</td>\n",
       "      <td>23.3%</td>\n",
       "      <td>$465.76</td>\n",
       "      <td>1/27/2019</td>\n",
       "      <td>8:33:00 PM</td>\n",
       "      <td>Ewallet</td>\n",
       "      <td>465.76</td>\n",
       "      <td>4.761905</td>\n",
       "      <td>23.2880</td>\n",
       "      <td>8.4</td>\n",
       "    </tr>\n",
       "    <tr>\n",
       "      <th>4</th>\n",
       "      <td>373-73-7910</td>\n",
       "      <td>A</td>\n",
       "      <td>Yangon</td>\n",
       "      <td>Normal</td>\n",
       "      <td>Sports and travel</td>\n",
       "      <td>86.31</td>\n",
       "      <td>7.0</td>\n",
       "      <td>7</td>\n",
       "      <td>NaN</td>\n",
       "      <td>30.2%</td>\n",
       "      <td>$604.17</td>\n",
       "      <td>2/8/2019</td>\n",
       "      <td>10:37:00 AM</td>\n",
       "      <td>Ewallet</td>\n",
       "      <td>604.17</td>\n",
       "      <td>4.761905</td>\n",
       "      <td>30.2085</td>\n",
       "      <td>5.3</td>\n",
       "    </tr>\n",
       "    <tr>\n",
       "      <th>5</th>\n",
       "      <td>699-14-3026</td>\n",
       "      <td>C</td>\n",
       "      <td>Naypyitaw</td>\n",
       "      <td>Normal</td>\n",
       "      <td>Electronic accessories</td>\n",
       "      <td>85.39</td>\n",
       "      <td>7.0</td>\n",
       "      <td>7</td>\n",
       "      <td>NaN</td>\n",
       "      <td>29.9%</td>\n",
       "      <td>$597.73</td>\n",
       "      <td>3/25/2019</td>\n",
       "      <td>6:30:00 PM</td>\n",
       "      <td>Ewallet</td>\n",
       "      <td>597.73</td>\n",
       "      <td>4.761905</td>\n",
       "      <td>29.8865</td>\n",
       "      <td>4.1</td>\n",
       "    </tr>\n",
       "    <tr>\n",
       "      <th>6</th>\n",
       "      <td>355-53-5943</td>\n",
       "      <td>A</td>\n",
       "      <td>Yangon</td>\n",
       "      <td>Customer</td>\n",
       "      <td>Electronic accessories</td>\n",
       "      <td>68.84</td>\n",
       "      <td>6.0</td>\n",
       "      <td>6</td>\n",
       "      <td>NaN</td>\n",
       "      <td>20.7%</td>\n",
       "      <td>$413.04</td>\n",
       "      <td>2/25/2019</td>\n",
       "      <td>2:36:00 PM</td>\n",
       "      <td>Ewallet</td>\n",
       "      <td>413.04</td>\n",
       "      <td>4.761905</td>\n",
       "      <td>20.6520</td>\n",
       "      <td>5.8</td>\n",
       "    </tr>\n",
       "    <tr>\n",
       "      <th>7</th>\n",
       "      <td>315-22-5665</td>\n",
       "      <td>C</td>\n",
       "      <td>Naypyitaw</td>\n",
       "      <td>Normal</td>\n",
       "      <td>Home and lifestyle</td>\n",
       "      <td>73.56</td>\n",
       "      <td>10.0</td>\n",
       "      <td>10</td>\n",
       "      <td>NaN</td>\n",
       "      <td>36.8%</td>\n",
       "      <td>$735.60</td>\n",
       "      <td>2/24/2019</td>\n",
       "      <td>11:38:00 AM</td>\n",
       "      <td>Ewallet</td>\n",
       "      <td>735.60</td>\n",
       "      <td>4.761905</td>\n",
       "      <td>36.7800</td>\n",
       "      <td>8.0</td>\n",
       "    </tr>\n",
       "    <tr>\n",
       "      <th>8</th>\n",
       "      <td>665-32-9167</td>\n",
       "      <td>A</td>\n",
       "      <td>Yangon</td>\n",
       "      <td>Customer</td>\n",
       "      <td>Health and beauty</td>\n",
       "      <td>36.26</td>\n",
       "      <td>2.0</td>\n",
       "      <td>2</td>\n",
       "      <td>NaN</td>\n",
       "      <td>3.6%</td>\n",
       "      <td>$72.52</td>\n",
       "      <td>1/10/2019</td>\n",
       "      <td>5:15:00 PM</td>\n",
       "      <td>Credit card</td>\n",
       "      <td>72.52</td>\n",
       "      <td>4.761905</td>\n",
       "      <td>3.6260</td>\n",
       "      <td>7.2</td>\n",
       "    </tr>\n",
       "    <tr>\n",
       "      <th>9</th>\n",
       "      <td>692-92-5582</td>\n",
       "      <td>B</td>\n",
       "      <td>Mandalay</td>\n",
       "      <td>Customer</td>\n",
       "      <td>Food and beverages</td>\n",
       "      <td>54.84</td>\n",
       "      <td>3.0</td>\n",
       "      <td>3</td>\n",
       "      <td>NaN</td>\n",
       "      <td>8.2%</td>\n",
       "      <td>$164.52</td>\n",
       "      <td>2/20/2019</td>\n",
       "      <td>1:27:00 PM</td>\n",
       "      <td>Credit card</td>\n",
       "      <td>164.52</td>\n",
       "      <td>NaN</td>\n",
       "      <td>8.2260</td>\n",
       "      <td>5.9</td>\n",
       "    </tr>\n",
       "  </tbody>\n",
       "</table>\n",
       "</div>"
      ],
      "text/plain": [
       "    Invoice ID Branch       City Customer type              Product line  \\\n",
       "0  750-67-8428   R1C1     Yangon      Customer         Health and beauty   \n",
       "1  226-31-3081      C  Naypyitaw        Normal  Electronic \\naccessories   \n",
       "2  631-41-3108      A     Yangon        Normal        Home and lifestyle   \n",
       "3  123-19-1176      A     Yangon      Customer         Health and beauty   \n",
       "4  373-73-7910      A     Yangon        Normal         Sports and travel   \n",
       "5  699-14-3026      C  Naypyitaw        Normal    Electronic accessories   \n",
       "6  355-53-5943      A     Yangon      Customer    Electronic accessories   \n",
       "7  315-22-5665      C  Naypyitaw        Normal        Home and lifestyle   \n",
       "8  665-32-9167      A     Yangon      Customer         Health and beauty   \n",
       "9  692-92-5582      B   Mandalay      Customer        Food and beverages   \n",
       "\n",
       "   Unit price  Quantity Review Quantity  Check Tax 5%     Total        Date  \\\n",
       "0       67.99       7.0               7    NaN  23.8%   $475.93    1/5/2019   \n",
       "1       15.28       5.0               5    NaN   3.8%    $76.40    3/8/2019   \n",
       "2       46.33       7.0               7    NaN  16.2%   $324.31    3/3/2019   \n",
       "3       58.22       8.0               8    NaN  23.3%   $465.76   1/27/2019   \n",
       "4       86.31       7.0               7    NaN  30.2%   $604.17    2/8/2019   \n",
       "5       85.39       7.0               7    NaN  29.9%   $597.73   3/25/2019   \n",
       "6       68.84       6.0               6    NaN  20.7%   $413.04   2/25/2019   \n",
       "7       73.56      10.0              10    NaN  36.8%   $735.60   2/24/2019   \n",
       "8       36.26       2.0               2    NaN   3.6%    $72.52   1/10/2019   \n",
       "9       54.84       3.0               3    NaN   8.2%   $164.52   2/20/2019   \n",
       "\n",
       "          Time      Payment    cogs  gross margin percentage  gross income  \\\n",
       "0   1:08:00 PM      Ewallet  522.83                 4.761905       26.1415   \n",
       "1  10:29:00 AM         Cash   76.40                 4.761905        3.8200   \n",
       "2   1:23:00 PM  Credit card  324.31                      NaN       16.2155   \n",
       "3   8:33:00 PM      Ewallet  465.76                 4.761905       23.2880   \n",
       "4  10:37:00 AM      Ewallet  604.17                 4.761905       30.2085   \n",
       "5   6:30:00 PM      Ewallet  597.73                 4.761905       29.8865   \n",
       "6   2:36:00 PM      Ewallet  413.04                 4.761905       20.6520   \n",
       "7  11:38:00 AM      Ewallet  735.60                 4.761905       36.7800   \n",
       "8   5:15:00 PM  Credit card   72.52                 4.761905        3.6260   \n",
       "9   1:27:00 PM  Credit card  164.52                      NaN        8.2260   \n",
       "\n",
       "   Rating  \n",
       "0     9.1  \n",
       "1     9.6  \n",
       "2     7.4  \n",
       "3     8.4  \n",
       "4     5.3  \n",
       "5     4.1  \n",
       "6     5.8  \n",
       "7     8.0  \n",
       "8     7.2  \n",
       "9     5.9  "
      ]
     },
     "execution_count": 34,
     "metadata": {},
     "output_type": "execute_result"
    }
   ],
   "source": [
    "df=pd.read_csv(r\"C:\\Users\\EL-SAMARC\\Desktop\\newwww\\supermarket_sales - Sheet1.csv\")\n",
    "df.head(10)"
   ]
  },
  {
   "cell_type": "code",
   "execution_count": 36,
   "id": "d91a1431-5455-4ed1-a7e0-1969e40c3b7a",
   "metadata": {},
   "outputs": [
    {
     "data": {
      "text/html": [
       "<div>\n",
       "<style scoped>\n",
       "    .dataframe tbody tr th:only-of-type {\n",
       "        vertical-align: middle;\n",
       "    }\n",
       "\n",
       "    .dataframe tbody tr th {\n",
       "        vertical-align: top;\n",
       "    }\n",
       "\n",
       "    .dataframe thead th {\n",
       "        text-align: right;\n",
       "    }\n",
       "</style>\n",
       "<table border=\"1\" class=\"dataframe\">\n",
       "  <thead>\n",
       "    <tr style=\"text-align: right;\">\n",
       "      <th></th>\n",
       "      <th>Invoice ID</th>\n",
       "      <th>Branch</th>\n",
       "      <th>City</th>\n",
       "      <th>Customer type</th>\n",
       "      <th>Product line</th>\n",
       "      <th>Unit price</th>\n",
       "      <th>Quantity</th>\n",
       "      <th>Review Quantity</th>\n",
       "      <th>Check</th>\n",
       "      <th>Tax 5%</th>\n",
       "      <th>Total</th>\n",
       "      <th>Date</th>\n",
       "      <th>Time</th>\n",
       "      <th>Payment</th>\n",
       "      <th>cogs</th>\n",
       "      <th>gross margin percentage</th>\n",
       "      <th>gross income</th>\n",
       "      <th>Rating</th>\n",
       "    </tr>\n",
       "  </thead>\n",
       "  <tbody>\n",
       "    <tr>\n",
       "      <th>992</th>\n",
       "      <td>745-74-0715</td>\n",
       "      <td>A</td>\n",
       "      <td>Yangon</td>\n",
       "      <td>Normal</td>\n",
       "      <td>Electronic accessories</td>\n",
       "      <td>58.03</td>\n",
       "      <td>2.0</td>\n",
       "      <td>2</td>\n",
       "      <td>NaN</td>\n",
       "      <td>5.8%</td>\n",
       "      <td>$116.06</td>\n",
       "      <td>3/10/2019</td>\n",
       "      <td>8:46:00 PM</td>\n",
       "      <td>Ewallet</td>\n",
       "      <td>116.06</td>\n",
       "      <td>4.761905</td>\n",
       "      <td>5.8030</td>\n",
       "      <td>8.8</td>\n",
       "    </tr>\n",
       "    <tr>\n",
       "      <th>993</th>\n",
       "      <td>690-01-6631</td>\n",
       "      <td>B</td>\n",
       "      <td>Mandalay</td>\n",
       "      <td>Normal</td>\n",
       "      <td>Fashion accessories</td>\n",
       "      <td>17.49</td>\n",
       "      <td>10.0</td>\n",
       "      <td>10</td>\n",
       "      <td>NaN</td>\n",
       "      <td>8.7%</td>\n",
       "      <td>$174.90</td>\n",
       "      <td>2/22/2019</td>\n",
       "      <td>6:35:00 PM</td>\n",
       "      <td>Ewallet</td>\n",
       "      <td>174.90</td>\n",
       "      <td>4.761905</td>\n",
       "      <td>8.7450</td>\n",
       "      <td>6.6</td>\n",
       "    </tr>\n",
       "    <tr>\n",
       "      <th>994</th>\n",
       "      <td>652-49-6720</td>\n",
       "      <td>C</td>\n",
       "      <td>Naypyitaw</td>\n",
       "      <td>Customer</td>\n",
       "      <td>Electronic accessories</td>\n",
       "      <td>60.95</td>\n",
       "      <td>1.0</td>\n",
       "      <td>1</td>\n",
       "      <td>NaN</td>\n",
       "      <td>3.0%</td>\n",
       "      <td>$60.95</td>\n",
       "      <td>2/18/2019</td>\n",
       "      <td>11:40:00 AM</td>\n",
       "      <td>Ewallet</td>\n",
       "      <td>60.95</td>\n",
       "      <td>4.761905</td>\n",
       "      <td>3.0475</td>\n",
       "      <td>5.9</td>\n",
       "    </tr>\n",
       "    <tr>\n",
       "      <th>995</th>\n",
       "      <td>233-67-5758</td>\n",
       "      <td>C</td>\n",
       "      <td>Naypyitaw</td>\n",
       "      <td>Normal</td>\n",
       "      <td>Health and beauty</td>\n",
       "      <td>40.35</td>\n",
       "      <td>1.0</td>\n",
       "      <td>1</td>\n",
       "      <td>NaN</td>\n",
       "      <td>2.0%</td>\n",
       "      <td>$40.35</td>\n",
       "      <td>1/29/2019</td>\n",
       "      <td>1:46:00 PM</td>\n",
       "      <td>Ewallet</td>\n",
       "      <td>40.35</td>\n",
       "      <td>4.761905</td>\n",
       "      <td>2.0175</td>\n",
       "      <td>6.2</td>\n",
       "    </tr>\n",
       "    <tr>\n",
       "      <th>996</th>\n",
       "      <td>303-96-2227</td>\n",
       "      <td>B</td>\n",
       "      <td>Mandalay</td>\n",
       "      <td>Normal</td>\n",
       "      <td>Home and lifestyle</td>\n",
       "      <td>97.38</td>\n",
       "      <td>10.0</td>\n",
       "      <td>10</td>\n",
       "      <td>NaN</td>\n",
       "      <td>48.7%</td>\n",
       "      <td>$973.80</td>\n",
       "      <td>3/2/2019</td>\n",
       "      <td>5:16:00 PM</td>\n",
       "      <td>Ewallet</td>\n",
       "      <td>973.80</td>\n",
       "      <td>4.761905</td>\n",
       "      <td>48.6900</td>\n",
       "      <td>4.4</td>\n",
       "    </tr>\n",
       "    <tr>\n",
       "      <th>997</th>\n",
       "      <td>727-02-1313</td>\n",
       "      <td>A</td>\n",
       "      <td>Yangon</td>\n",
       "      <td>Customer</td>\n",
       "      <td>Food and beverages</td>\n",
       "      <td>31.84</td>\n",
       "      <td>1.0</td>\n",
       "      <td>1</td>\n",
       "      <td>NaN</td>\n",
       "      <td>1.6%</td>\n",
       "      <td>$31.84</td>\n",
       "      <td>2/9/2019</td>\n",
       "      <td>1:22:00 PM</td>\n",
       "      <td>Cash</td>\n",
       "      <td>31.84</td>\n",
       "      <td>4.761905</td>\n",
       "      <td>1.5920</td>\n",
       "      <td>7.7</td>\n",
       "    </tr>\n",
       "    <tr>\n",
       "      <th>998</th>\n",
       "      <td>347-56-2442</td>\n",
       "      <td>A</td>\n",
       "      <td>Yangon</td>\n",
       "      <td>Normal</td>\n",
       "      <td>Home and lifestyle</td>\n",
       "      <td>65.82</td>\n",
       "      <td>1.0</td>\n",
       "      <td>1</td>\n",
       "      <td>NaN</td>\n",
       "      <td>3.3%</td>\n",
       "      <td>$65.82</td>\n",
       "      <td>2/22/2019</td>\n",
       "      <td>3:33:00 PM</td>\n",
       "      <td>Cash</td>\n",
       "      <td>65.82</td>\n",
       "      <td>4.761905</td>\n",
       "      <td>3.2910</td>\n",
       "      <td>4.1</td>\n",
       "    </tr>\n",
       "    <tr>\n",
       "      <th>999</th>\n",
       "      <td>849-09-3807</td>\n",
       "      <td>A</td>\n",
       "      <td>Yangon</td>\n",
       "      <td>Customer</td>\n",
       "      <td>Fashion accessories</td>\n",
       "      <td>88.34</td>\n",
       "      <td>7.0</td>\n",
       "      <td>7</td>\n",
       "      <td>NaN</td>\n",
       "      <td>30.9%</td>\n",
       "      <td>$618.38</td>\n",
       "      <td>2/18/2019</td>\n",
       "      <td>1:28:00 PM</td>\n",
       "      <td>Cash</td>\n",
       "      <td>618.38</td>\n",
       "      <td>4.761905</td>\n",
       "      <td>30.9190</td>\n",
       "      <td>6.6</td>\n",
       "    </tr>\n",
       "    <tr>\n",
       "      <th>1000</th>\n",
       "      <td>NaN</td>\n",
       "      <td>NaN</td>\n",
       "      <td>NaN</td>\n",
       "      <td>NaN</td>\n",
       "      <td>NaN</td>\n",
       "      <td>55665.43</td>\n",
       "      <td>NaN</td>\n",
       "      <td>NaN</td>\n",
       "      <td>NaN</td>\n",
       "      <td>NaN</td>\n",
       "      <td>$-</td>\n",
       "      <td>NaN</td>\n",
       "      <td>NaN</td>\n",
       "      <td>NaN</td>\n",
       "      <td>NaN</td>\n",
       "      <td>NaN</td>\n",
       "      <td>NaN</td>\n",
       "      <td>NaN</td>\n",
       "    </tr>\n",
       "    <tr>\n",
       "      <th>1001</th>\n",
       "      <td>NaN</td>\n",
       "      <td>NaN</td>\n",
       "      <td>NaN</td>\n",
       "      <td>NaN</td>\n",
       "      <td>NaN</td>\n",
       "      <td>NaN</td>\n",
       "      <td>NaN</td>\n",
       "      <td>R1C1</td>\n",
       "      <td>NaN</td>\n",
       "      <td>NaN</td>\n",
       "      <td>NaN</td>\n",
       "      <td>NaN</td>\n",
       "      <td>NaN</td>\n",
       "      <td>NaN</td>\n",
       "      <td>NaN</td>\n",
       "      <td>NaN</td>\n",
       "      <td>NaN</td>\n",
       "      <td>NaN</td>\n",
       "    </tr>\n",
       "  </tbody>\n",
       "</table>\n",
       "</div>"
      ],
      "text/plain": [
       "       Invoice ID Branch       City Customer type            Product line  \\\n",
       "992   745-74-0715      A     Yangon        Normal  Electronic accessories   \n",
       "993   690-01-6631      B   Mandalay        Normal     Fashion accessories   \n",
       "994   652-49-6720      C  Naypyitaw      Customer  Electronic accessories   \n",
       "995   233-67-5758      C  Naypyitaw        Normal       Health and beauty   \n",
       "996   303-96-2227      B   Mandalay        Normal      Home and lifestyle   \n",
       "997   727-02-1313      A     Yangon      Customer      Food and beverages   \n",
       "998   347-56-2442      A     Yangon        Normal      Home and lifestyle   \n",
       "999   849-09-3807      A     Yangon      Customer     Fashion accessories   \n",
       "1000          NaN    NaN        NaN           NaN                     NaN   \n",
       "1001          NaN    NaN        NaN           NaN                     NaN   \n",
       "\n",
       "      Unit price  Quantity Review Quantity  Check Tax 5%     Total   \\\n",
       "992        58.03       2.0               2    NaN   5.8%   $116.06    \n",
       "993        17.49      10.0              10    NaN   8.7%   $174.90    \n",
       "994        60.95       1.0               1    NaN   3.0%    $60.95    \n",
       "995        40.35       1.0               1    NaN   2.0%    $40.35    \n",
       "996        97.38      10.0              10    NaN  48.7%   $973.80    \n",
       "997        31.84       1.0               1    NaN   1.6%    $31.84    \n",
       "998        65.82       1.0               1    NaN   3.3%    $65.82    \n",
       "999        88.34       7.0               7    NaN  30.9%   $618.38    \n",
       "1000    55665.43       NaN             NaN    NaN    NaN      $-      \n",
       "1001         NaN       NaN            R1C1    NaN    NaN        NaN   \n",
       "\n",
       "           Date         Time  Payment    cogs  gross margin percentage  \\\n",
       "992   3/10/2019   8:46:00 PM  Ewallet  116.06                 4.761905   \n",
       "993   2/22/2019   6:35:00 PM  Ewallet  174.90                 4.761905   \n",
       "994   2/18/2019  11:40:00 AM  Ewallet   60.95                 4.761905   \n",
       "995   1/29/2019   1:46:00 PM  Ewallet   40.35                 4.761905   \n",
       "996    3/2/2019   5:16:00 PM  Ewallet  973.80                 4.761905   \n",
       "997    2/9/2019   1:22:00 PM     Cash   31.84                 4.761905   \n",
       "998   2/22/2019   3:33:00 PM     Cash   65.82                 4.761905   \n",
       "999   2/18/2019   1:28:00 PM     Cash  618.38                 4.761905   \n",
       "1000        NaN          NaN      NaN     NaN                      NaN   \n",
       "1001        NaN          NaN      NaN     NaN                      NaN   \n",
       "\n",
       "      gross income  Rating  \n",
       "992         5.8030     8.8  \n",
       "993         8.7450     6.6  \n",
       "994         3.0475     5.9  \n",
       "995         2.0175     6.2  \n",
       "996        48.6900     4.4  \n",
       "997         1.5920     7.7  \n",
       "998         3.2910     4.1  \n",
       "999        30.9190     6.6  \n",
       "1000           NaN     NaN  \n",
       "1001           NaN     NaN  "
      ]
     },
     "execution_count": 36,
     "metadata": {},
     "output_type": "execute_result"
    }
   ],
   "source": [
    "df.tail(10)"
   ]
  },
  {
   "cell_type": "code",
   "execution_count": 37,
   "id": "90ff11aa-7faa-4292-8938-f0fd98336be9",
   "metadata": {},
   "outputs": [
    {
     "data": {
      "text/html": [
       "<div>\n",
       "<style scoped>\n",
       "    .dataframe tbody tr th:only-of-type {\n",
       "        vertical-align: middle;\n",
       "    }\n",
       "\n",
       "    .dataframe tbody tr th {\n",
       "        vertical-align: top;\n",
       "    }\n",
       "\n",
       "    .dataframe thead th {\n",
       "        text-align: right;\n",
       "    }\n",
       "</style>\n",
       "<table border=\"1\" class=\"dataframe\">\n",
       "  <thead>\n",
       "    <tr style=\"text-align: right;\">\n",
       "      <th></th>\n",
       "      <th>Invoice ID</th>\n",
       "      <th>Branch</th>\n",
       "      <th>City</th>\n",
       "      <th>Customer type</th>\n",
       "      <th>Product line</th>\n",
       "      <th>Unit price</th>\n",
       "      <th>Quantity</th>\n",
       "      <th>Review Quantity</th>\n",
       "      <th>Check</th>\n",
       "      <th>Tax 5%</th>\n",
       "      <th>Total</th>\n",
       "      <th>Date</th>\n",
       "      <th>Time</th>\n",
       "      <th>Payment</th>\n",
       "      <th>cogs</th>\n",
       "      <th>gross margin percentage</th>\n",
       "      <th>gross income</th>\n",
       "      <th>Rating</th>\n",
       "    </tr>\n",
       "  </thead>\n",
       "  <tbody>\n",
       "    <tr>\n",
       "      <th>223</th>\n",
       "      <td>279-62-1445</td>\n",
       "      <td>C</td>\n",
       "      <td>Naypyitaw</td>\n",
       "      <td>Customer</td>\n",
       "      <td>Fashion accessories</td>\n",
       "      <td>12.54</td>\n",
       "      <td>1.0</td>\n",
       "      <td>1</td>\n",
       "      <td>NaN</td>\n",
       "      <td>0.6%</td>\n",
       "      <td>$12.54</td>\n",
       "      <td>2/21/2019</td>\n",
       "      <td>12:38:00 PM</td>\n",
       "      <td>Cash</td>\n",
       "      <td>12.54</td>\n",
       "      <td>4.761905</td>\n",
       "      <td>0.627</td>\n",
       "      <td>8.2</td>\n",
       "    </tr>\n",
       "  </tbody>\n",
       "</table>\n",
       "</div>"
      ],
      "text/plain": [
       "      Invoice ID Branch       City Customer type         Product line  \\\n",
       "223  279-62-1445      C  Naypyitaw      Customer  Fashion accessories   \n",
       "\n",
       "     Unit price  Quantity Review Quantity  Check Tax 5%    Total        Date  \\\n",
       "223       12.54       1.0               1    NaN   0.6%   $12.54   2/21/2019   \n",
       "\n",
       "            Time Payment   cogs  gross margin percentage  gross income  Rating  \n",
       "223  12:38:00 PM    Cash  12.54                 4.761905         0.627     8.2  "
      ]
     },
     "execution_count": 37,
     "metadata": {},
     "output_type": "execute_result"
    }
   ],
   "source": [
    "df.sample()"
   ]
  },
  {
   "cell_type": "code",
   "execution_count": 38,
   "id": "4467997b-8ed8-4b9b-96f8-dd3cdc7bb1ef",
   "metadata": {},
   "outputs": [
    {
     "data": {
      "text/html": [
       "<div>\n",
       "<style scoped>\n",
       "    .dataframe tbody tr th:only-of-type {\n",
       "        vertical-align: middle;\n",
       "    }\n",
       "\n",
       "    .dataframe tbody tr th {\n",
       "        vertical-align: top;\n",
       "    }\n",
       "\n",
       "    .dataframe thead th {\n",
       "        text-align: right;\n",
       "    }\n",
       "</style>\n",
       "<table border=\"1\" class=\"dataframe\">\n",
       "  <thead>\n",
       "    <tr style=\"text-align: right;\">\n",
       "      <th></th>\n",
       "      <th>Invoice ID</th>\n",
       "      <th>Branch</th>\n",
       "      <th>City</th>\n",
       "      <th>Customer type</th>\n",
       "      <th>Product line</th>\n",
       "      <th>Unit price</th>\n",
       "      <th>Quantity</th>\n",
       "      <th>Review Quantity</th>\n",
       "      <th>Check</th>\n",
       "      <th>Tax 5%</th>\n",
       "      <th>Total</th>\n",
       "      <th>Date</th>\n",
       "      <th>Time</th>\n",
       "      <th>Payment</th>\n",
       "      <th>cogs</th>\n",
       "      <th>gross margin percentage</th>\n",
       "      <th>gross income</th>\n",
       "      <th>Rating</th>\n",
       "    </tr>\n",
       "  </thead>\n",
       "  <tbody>\n",
       "    <tr>\n",
       "      <th>517</th>\n",
       "      <td>521-18-7827</td>\n",
       "      <td>C</td>\n",
       "      <td>Naypyitaw</td>\n",
       "      <td>Customer</td>\n",
       "      <td>Home and lifestyle</td>\n",
       "      <td>39.39</td>\n",
       "      <td>5.0</td>\n",
       "      <td>5</td>\n",
       "      <td>NaN</td>\n",
       "      <td>9.8%</td>\n",
       "      <td>$196.95</td>\n",
       "      <td>1/22/2019</td>\n",
       "      <td>8:46:00 PM</td>\n",
       "      <td>Credit card</td>\n",
       "      <td>196.95</td>\n",
       "      <td>4.761905</td>\n",
       "      <td>9.8475</td>\n",
       "      <td>8.7</td>\n",
       "    </tr>\n",
       "  </tbody>\n",
       "</table>\n",
       "</div>"
      ],
      "text/plain": [
       "      Invoice ID Branch       City Customer type        Product line  \\\n",
       "517  521-18-7827      C  Naypyitaw      Customer  Home and lifestyle   \n",
       "\n",
       "     Unit price  Quantity Review Quantity  Check Tax 5%     Total        Date  \\\n",
       "517       39.39       5.0               5    NaN   9.8%   $196.95   1/22/2019   \n",
       "\n",
       "           Time      Payment    cogs  gross margin percentage  gross income  \\\n",
       "517  8:46:00 PM  Credit card  196.95                 4.761905        9.8475   \n",
       "\n",
       "     Rating  \n",
       "517     8.7  "
      ]
     },
     "execution_count": 38,
     "metadata": {},
     "output_type": "execute_result"
    }
   ],
   "source": [
    "df.sample()"
   ]
  },
  {
   "cell_type": "code",
   "execution_count": 39,
   "id": "cbcee25b-62f7-43dc-be86-f1bc6a0743e8",
   "metadata": {},
   "outputs": [
    {
     "data": {
      "text/html": [
       "<div>\n",
       "<style scoped>\n",
       "    .dataframe tbody tr th:only-of-type {\n",
       "        vertical-align: middle;\n",
       "    }\n",
       "\n",
       "    .dataframe tbody tr th {\n",
       "        vertical-align: top;\n",
       "    }\n",
       "\n",
       "    .dataframe thead th {\n",
       "        text-align: right;\n",
       "    }\n",
       "</style>\n",
       "<table border=\"1\" class=\"dataframe\">\n",
       "  <thead>\n",
       "    <tr style=\"text-align: right;\">\n",
       "      <th></th>\n",
       "      <th>Invoice ID</th>\n",
       "      <th>Branch</th>\n",
       "      <th>City</th>\n",
       "      <th>Customer type</th>\n",
       "      <th>Product line</th>\n",
       "      <th>Unit price</th>\n",
       "      <th>Quantity</th>\n",
       "      <th>Review Quantity</th>\n",
       "      <th>Check</th>\n",
       "      <th>Tax 5%</th>\n",
       "      <th>Total</th>\n",
       "      <th>Date</th>\n",
       "      <th>Time</th>\n",
       "      <th>Payment</th>\n",
       "      <th>cogs</th>\n",
       "      <th>gross margin percentage</th>\n",
       "      <th>gross income</th>\n",
       "      <th>Rating</th>\n",
       "    </tr>\n",
       "  </thead>\n",
       "  <tbody>\n",
       "    <tr>\n",
       "      <th>994</th>\n",
       "      <td>652-49-6720</td>\n",
       "      <td>C</td>\n",
       "      <td>Naypyitaw</td>\n",
       "      <td>Customer</td>\n",
       "      <td>Electronic accessories</td>\n",
       "      <td>60.95</td>\n",
       "      <td>1.0</td>\n",
       "      <td>1</td>\n",
       "      <td>NaN</td>\n",
       "      <td>3.0%</td>\n",
       "      <td>$60.95</td>\n",
       "      <td>2/18/2019</td>\n",
       "      <td>11:40:00 AM</td>\n",
       "      <td>Ewallet</td>\n",
       "      <td>60.95</td>\n",
       "      <td>4.761905</td>\n",
       "      <td>3.0475</td>\n",
       "      <td>5.9</td>\n",
       "    </tr>\n",
       "    <tr>\n",
       "      <th>386</th>\n",
       "      <td>689-16-9784</td>\n",
       "      <td>C</td>\n",
       "      <td>Naypyitaw</td>\n",
       "      <td>Normal</td>\n",
       "      <td>Food and beverages</td>\n",
       "      <td>46.77</td>\n",
       "      <td>6.0</td>\n",
       "      <td>6</td>\n",
       "      <td>NaN</td>\n",
       "      <td>14.0%</td>\n",
       "      <td>$280.62</td>\n",
       "      <td>3/11/2019</td>\n",
       "      <td>1:37:00 PM</td>\n",
       "      <td>Cash</td>\n",
       "      <td>280.62</td>\n",
       "      <td>4.761905</td>\n",
       "      <td>14.0310</td>\n",
       "      <td>6.0</td>\n",
       "    </tr>\n",
       "    <tr>\n",
       "      <th>73</th>\n",
       "      <td>841-35-6630</td>\n",
       "      <td>C</td>\n",
       "      <td>Naypyitaw</td>\n",
       "      <td>Normal</td>\n",
       "      <td>Electronic accessories</td>\n",
       "      <td>75.91</td>\n",
       "      <td>6.0</td>\n",
       "      <td>6</td>\n",
       "      <td>NaN</td>\n",
       "      <td>22.8%</td>\n",
       "      <td>$455.46</td>\n",
       "      <td>3/9/2019</td>\n",
       "      <td>6:21:00 PM</td>\n",
       "      <td>Cash</td>\n",
       "      <td>455.46</td>\n",
       "      <td>4.761905</td>\n",
       "      <td>22.7730</td>\n",
       "      <td>8.7</td>\n",
       "    </tr>\n",
       "    <tr>\n",
       "      <th>765</th>\n",
       "      <td>593-14-4239</td>\n",
       "      <td>B</td>\n",
       "      <td>Mandalay</td>\n",
       "      <td>Normal</td>\n",
       "      <td>Home and lifestyle</td>\n",
       "      <td>95.46</td>\n",
       "      <td>8.0</td>\n",
       "      <td>8</td>\n",
       "      <td>NaN</td>\n",
       "      <td>38.2%</td>\n",
       "      <td>$763.68</td>\n",
       "      <td>3/5/2019</td>\n",
       "      <td>7:40:00 PM</td>\n",
       "      <td>Ewallet</td>\n",
       "      <td>763.68</td>\n",
       "      <td>4.761905</td>\n",
       "      <td>38.1840</td>\n",
       "      <td>4.7</td>\n",
       "    </tr>\n",
       "    <tr>\n",
       "      <th>319</th>\n",
       "      <td>787-15-1757</td>\n",
       "      <td>C</td>\n",
       "      <td>Naypyitaw</td>\n",
       "      <td>Customer</td>\n",
       "      <td>Health and beauty</td>\n",
       "      <td>44.07</td>\n",
       "      <td>4.0</td>\n",
       "      <td>4</td>\n",
       "      <td>NaN</td>\n",
       "      <td>8.8%</td>\n",
       "      <td>$176.28</td>\n",
       "      <td>2/18/2019</td>\n",
       "      <td>4:28:00 PM</td>\n",
       "      <td>Ewallet</td>\n",
       "      <td>176.28</td>\n",
       "      <td>4.761905</td>\n",
       "      <td>8.8140</td>\n",
       "      <td>8.4</td>\n",
       "    </tr>\n",
       "    <tr>\n",
       "      <th>729</th>\n",
       "      <td>299-29-0180</td>\n",
       "      <td>B</td>\n",
       "      <td>Mandalay</td>\n",
       "      <td>Customer</td>\n",
       "      <td>Home and lifestyle</td>\n",
       "      <td>52.18</td>\n",
       "      <td>7.0</td>\n",
       "      <td>7</td>\n",
       "      <td>NaN</td>\n",
       "      <td>18.3%</td>\n",
       "      <td>$365.26</td>\n",
       "      <td>3/9/2019</td>\n",
       "      <td>10:54:00 AM</td>\n",
       "      <td>Cash</td>\n",
       "      <td>365.26</td>\n",
       "      <td>4.761905</td>\n",
       "      <td>18.2630</td>\n",
       "      <td>9.3</td>\n",
       "    </tr>\n",
       "    <tr>\n",
       "      <th>601</th>\n",
       "      <td>881-41-7302</td>\n",
       "      <td>C</td>\n",
       "      <td>Naypyitaw</td>\n",
       "      <td>Normal</td>\n",
       "      <td>Fashion accessories</td>\n",
       "      <td>64.99</td>\n",
       "      <td>1.0</td>\n",
       "      <td>1</td>\n",
       "      <td>NaN</td>\n",
       "      <td>3.2%</td>\n",
       "      <td>$64.99</td>\n",
       "      <td>1/26/2019</td>\n",
       "      <td>10:06:00 AM</td>\n",
       "      <td>Credit card</td>\n",
       "      <td>64.99</td>\n",
       "      <td>4.761905</td>\n",
       "      <td>3.2495</td>\n",
       "      <td>4.5</td>\n",
       "    </tr>\n",
       "    <tr>\n",
       "      <th>771</th>\n",
       "      <td>759-98-4285</td>\n",
       "      <td>C</td>\n",
       "      <td>Naypyitaw</td>\n",
       "      <td>Customer</td>\n",
       "      <td>Health and beauty</td>\n",
       "      <td>85.87</td>\n",
       "      <td>7.0</td>\n",
       "      <td>7</td>\n",
       "      <td>NaN</td>\n",
       "      <td>30.1%</td>\n",
       "      <td>$601.09</td>\n",
       "      <td>2/27/2019</td>\n",
       "      <td>7:01:00 PM</td>\n",
       "      <td>Credit card</td>\n",
       "      <td>601.09</td>\n",
       "      <td>4.761905</td>\n",
       "      <td>30.0545</td>\n",
       "      <td>8.0</td>\n",
       "    </tr>\n",
       "    <tr>\n",
       "      <th>943</th>\n",
       "      <td>449-16-6770</td>\n",
       "      <td>A</td>\n",
       "      <td>Yangon</td>\n",
       "      <td>Normal</td>\n",
       "      <td>Health and beauty</td>\n",
       "      <td>50.79</td>\n",
       "      <td>5.0</td>\n",
       "      <td>5</td>\n",
       "      <td>NaN</td>\n",
       "      <td>12.7%</td>\n",
       "      <td>$253.95</td>\n",
       "      <td>2/19/2019</td>\n",
       "      <td>2:53:00 PM</td>\n",
       "      <td>Credit card</td>\n",
       "      <td>253.95</td>\n",
       "      <td>4.761905</td>\n",
       "      <td>12.6975</td>\n",
       "      <td>5.3</td>\n",
       "    </tr>\n",
       "    <tr>\n",
       "      <th>864</th>\n",
       "      <td>124-31-1458</td>\n",
       "      <td>A</td>\n",
       "      <td>Yangon</td>\n",
       "      <td>Customer</td>\n",
       "      <td>Electronic accessories</td>\n",
       "      <td>79.59</td>\n",
       "      <td>3.0</td>\n",
       "      <td>3</td>\n",
       "      <td>NaN</td>\n",
       "      <td>11.9%</td>\n",
       "      <td>$238.77</td>\n",
       "      <td>1/8/2019</td>\n",
       "      <td>2:30:00 PM</td>\n",
       "      <td>Cash</td>\n",
       "      <td>238.77</td>\n",
       "      <td>4.761905</td>\n",
       "      <td>11.9385</td>\n",
       "      <td>6.6</td>\n",
       "    </tr>\n",
       "    <tr>\n",
       "      <th>697</th>\n",
       "      <td>826-58-8051</td>\n",
       "      <td>B</td>\n",
       "      <td>Mandalay</td>\n",
       "      <td>Normal</td>\n",
       "      <td>Home and lifestyle</td>\n",
       "      <td>62.19</td>\n",
       "      <td>4.0</td>\n",
       "      <td>4</td>\n",
       "      <td>NaN</td>\n",
       "      <td>12.4%</td>\n",
       "      <td>$248.76</td>\n",
       "      <td>1/6/2019</td>\n",
       "      <td>7:46:00 PM</td>\n",
       "      <td>Ewallet</td>\n",
       "      <td>248.76</td>\n",
       "      <td>4.761905</td>\n",
       "      <td>12.4380</td>\n",
       "      <td>4.3</td>\n",
       "    </tr>\n",
       "    <tr>\n",
       "      <th>395</th>\n",
       "      <td>726-27-2396</td>\n",
       "      <td>A</td>\n",
       "      <td>Yangon</td>\n",
       "      <td>Normal</td>\n",
       "      <td>Health and beauty</td>\n",
       "      <td>77.50</td>\n",
       "      <td>5.0</td>\n",
       "      <td>5</td>\n",
       "      <td>NaN</td>\n",
       "      <td>19.4%</td>\n",
       "      <td>$387.50</td>\n",
       "      <td>1/24/2019</td>\n",
       "      <td>8:36:00 PM</td>\n",
       "      <td>Ewallet</td>\n",
       "      <td>387.50</td>\n",
       "      <td>4.761905</td>\n",
       "      <td>19.3750</td>\n",
       "      <td>4.3</td>\n",
       "    </tr>\n",
       "  </tbody>\n",
       "</table>\n",
       "</div>"
      ],
      "text/plain": [
       "      Invoice ID Branch       City Customer type            Product line  \\\n",
       "994  652-49-6720      C  Naypyitaw      Customer  Electronic accessories   \n",
       "386  689-16-9784      C  Naypyitaw        Normal      Food and beverages   \n",
       "73   841-35-6630      C  Naypyitaw        Normal  Electronic accessories   \n",
       "765  593-14-4239      B   Mandalay        Normal      Home and lifestyle   \n",
       "319  787-15-1757      C  Naypyitaw      Customer       Health and beauty   \n",
       "729  299-29-0180      B   Mandalay      Customer      Home and lifestyle   \n",
       "601  881-41-7302      C  Naypyitaw        Normal     Fashion accessories   \n",
       "771  759-98-4285      C  Naypyitaw      Customer       Health and beauty   \n",
       "943  449-16-6770      A     Yangon        Normal       Health and beauty   \n",
       "864  124-31-1458      A     Yangon      Customer  Electronic accessories   \n",
       "697  826-58-8051      B   Mandalay        Normal      Home and lifestyle   \n",
       "395  726-27-2396      A     Yangon        Normal       Health and beauty   \n",
       "\n",
       "     Unit price  Quantity Review Quantity  Check Tax 5%     Total        Date  \\\n",
       "994       60.95       1.0               1    NaN   3.0%    $60.95   2/18/2019   \n",
       "386       46.77       6.0               6    NaN  14.0%   $280.62   3/11/2019   \n",
       "73        75.91       6.0               6    NaN  22.8%   $455.46    3/9/2019   \n",
       "765       95.46       8.0               8    NaN  38.2%   $763.68    3/5/2019   \n",
       "319       44.07       4.0               4    NaN   8.8%   $176.28   2/18/2019   \n",
       "729       52.18       7.0               7    NaN  18.3%   $365.26    3/9/2019   \n",
       "601       64.99       1.0               1    NaN   3.2%    $64.99   1/26/2019   \n",
       "771       85.87       7.0               7    NaN  30.1%   $601.09   2/27/2019   \n",
       "943       50.79       5.0               5    NaN  12.7%   $253.95   2/19/2019   \n",
       "864       79.59       3.0               3    NaN  11.9%   $238.77    1/8/2019   \n",
       "697       62.19       4.0               4    NaN  12.4%   $248.76    1/6/2019   \n",
       "395       77.50       5.0               5    NaN  19.4%   $387.50   1/24/2019   \n",
       "\n",
       "            Time      Payment    cogs  gross margin percentage  gross income  \\\n",
       "994  11:40:00 AM      Ewallet   60.95                 4.761905        3.0475   \n",
       "386   1:37:00 PM         Cash  280.62                 4.761905       14.0310   \n",
       "73    6:21:00 PM         Cash  455.46                 4.761905       22.7730   \n",
       "765   7:40:00 PM      Ewallet  763.68                 4.761905       38.1840   \n",
       "319   4:28:00 PM      Ewallet  176.28                 4.761905        8.8140   \n",
       "729  10:54:00 AM         Cash  365.26                 4.761905       18.2630   \n",
       "601  10:06:00 AM  Credit card   64.99                 4.761905        3.2495   \n",
       "771   7:01:00 PM  Credit card  601.09                 4.761905       30.0545   \n",
       "943   2:53:00 PM  Credit card  253.95                 4.761905       12.6975   \n",
       "864   2:30:00 PM         Cash  238.77                 4.761905       11.9385   \n",
       "697   7:46:00 PM      Ewallet  248.76                 4.761905       12.4380   \n",
       "395   8:36:00 PM      Ewallet  387.50                 4.761905       19.3750   \n",
       "\n",
       "     Rating  \n",
       "994     5.9  \n",
       "386     6.0  \n",
       "73      8.7  \n",
       "765     4.7  \n",
       "319     8.4  \n",
       "729     9.3  \n",
       "601     4.5  \n",
       "771     8.0  \n",
       "943     5.3  \n",
       "864     6.6  \n",
       "697     4.3  \n",
       "395     4.3  "
      ]
     },
     "execution_count": 39,
     "metadata": {},
     "output_type": "execute_result"
    }
   ],
   "source": [
    "df.sample(12)"
   ]
  },
  {
   "cell_type": "code",
   "execution_count": 40,
   "id": "31b52ec8-193e-4949-9dad-b4ef290679af",
   "metadata": {},
   "outputs": [
    {
     "data": {
      "text/html": [
       "<div>\n",
       "<style scoped>\n",
       "    .dataframe tbody tr th:only-of-type {\n",
       "        vertical-align: middle;\n",
       "    }\n",
       "\n",
       "    .dataframe tbody tr th {\n",
       "        vertical-align: top;\n",
       "    }\n",
       "\n",
       "    .dataframe thead th {\n",
       "        text-align: right;\n",
       "    }\n",
       "</style>\n",
       "<table border=\"1\" class=\"dataframe\">\n",
       "  <thead>\n",
       "    <tr style=\"text-align: right;\">\n",
       "      <th></th>\n",
       "      <th>Invoice ID</th>\n",
       "      <th>Branch</th>\n",
       "      <th>City</th>\n",
       "      <th>Customer type</th>\n",
       "      <th>Product line</th>\n",
       "      <th>Unit price</th>\n",
       "      <th>Quantity</th>\n",
       "      <th>Review Quantity</th>\n",
       "      <th>Check</th>\n",
       "      <th>Tax 5%</th>\n",
       "      <th>Total</th>\n",
       "      <th>Date</th>\n",
       "      <th>Time</th>\n",
       "      <th>Payment</th>\n",
       "      <th>cogs</th>\n",
       "      <th>gross margin percentage</th>\n",
       "      <th>gross income</th>\n",
       "      <th>Rating</th>\n",
       "    </tr>\n",
       "  </thead>\n",
       "  <tbody>\n",
       "    <tr>\n",
       "      <th>0</th>\n",
       "      <td>750-67-8428</td>\n",
       "      <td>R1C1</td>\n",
       "      <td>Yangon</td>\n",
       "      <td>Customer</td>\n",
       "      <td>Health and beauty</td>\n",
       "      <td>67.99</td>\n",
       "      <td>7.0</td>\n",
       "      <td>7</td>\n",
       "      <td>NaN</td>\n",
       "      <td>23.8%</td>\n",
       "      <td>$475.93</td>\n",
       "      <td>1/5/2019</td>\n",
       "      <td>1:08:00 PM</td>\n",
       "      <td>Ewallet</td>\n",
       "      <td>522.83</td>\n",
       "      <td>4.761905</td>\n",
       "      <td>26.1415</td>\n",
       "      <td>9.1</td>\n",
       "    </tr>\n",
       "    <tr>\n",
       "      <th>1</th>\n",
       "      <td>226-31-3081</td>\n",
       "      <td>C</td>\n",
       "      <td>Naypyitaw</td>\n",
       "      <td>Normal</td>\n",
       "      <td>Electronic \\naccessories</td>\n",
       "      <td>15.28</td>\n",
       "      <td>5.0</td>\n",
       "      <td>5</td>\n",
       "      <td>NaN</td>\n",
       "      <td>3.8%</td>\n",
       "      <td>$76.40</td>\n",
       "      <td>3/8/2019</td>\n",
       "      <td>10:29:00 AM</td>\n",
       "      <td>Cash</td>\n",
       "      <td>76.40</td>\n",
       "      <td>4.761905</td>\n",
       "      <td>3.8200</td>\n",
       "      <td>9.6</td>\n",
       "    </tr>\n",
       "    <tr>\n",
       "      <th>2</th>\n",
       "      <td>631-41-3108</td>\n",
       "      <td>A</td>\n",
       "      <td>Yangon</td>\n",
       "      <td>Normal</td>\n",
       "      <td>Home and lifestyle</td>\n",
       "      <td>46.33</td>\n",
       "      <td>7.0</td>\n",
       "      <td>7</td>\n",
       "      <td>NaN</td>\n",
       "      <td>16.2%</td>\n",
       "      <td>$324.31</td>\n",
       "      <td>3/3/2019</td>\n",
       "      <td>1:23:00 PM</td>\n",
       "      <td>Credit card</td>\n",
       "      <td>324.31</td>\n",
       "      <td>NaN</td>\n",
       "      <td>16.2155</td>\n",
       "      <td>7.4</td>\n",
       "    </tr>\n",
       "    <tr>\n",
       "      <th>3</th>\n",
       "      <td>123-19-1176</td>\n",
       "      <td>A</td>\n",
       "      <td>Yangon</td>\n",
       "      <td>Customer</td>\n",
       "      <td>Health and beauty</td>\n",
       "      <td>58.22</td>\n",
       "      <td>8.0</td>\n",
       "      <td>8</td>\n",
       "      <td>NaN</td>\n",
       "      <td>23.3%</td>\n",
       "      <td>$465.76</td>\n",
       "      <td>1/27/2019</td>\n",
       "      <td>8:33:00 PM</td>\n",
       "      <td>Ewallet</td>\n",
       "      <td>465.76</td>\n",
       "      <td>4.761905</td>\n",
       "      <td>23.2880</td>\n",
       "      <td>8.4</td>\n",
       "    </tr>\n",
       "    <tr>\n",
       "      <th>4</th>\n",
       "      <td>373-73-7910</td>\n",
       "      <td>A</td>\n",
       "      <td>Yangon</td>\n",
       "      <td>Normal</td>\n",
       "      <td>Sports and travel</td>\n",
       "      <td>86.31</td>\n",
       "      <td>7.0</td>\n",
       "      <td>7</td>\n",
       "      <td>NaN</td>\n",
       "      <td>30.2%</td>\n",
       "      <td>$604.17</td>\n",
       "      <td>2/8/2019</td>\n",
       "      <td>10:37:00 AM</td>\n",
       "      <td>Ewallet</td>\n",
       "      <td>604.17</td>\n",
       "      <td>4.761905</td>\n",
       "      <td>30.2085</td>\n",
       "      <td>5.3</td>\n",
       "    </tr>\n",
       "  </tbody>\n",
       "</table>\n",
       "</div>"
      ],
      "text/plain": [
       "    Invoice ID Branch       City Customer type              Product line  \\\n",
       "0  750-67-8428   R1C1     Yangon      Customer         Health and beauty   \n",
       "1  226-31-3081      C  Naypyitaw        Normal  Electronic \\naccessories   \n",
       "2  631-41-3108      A     Yangon        Normal        Home and lifestyle   \n",
       "3  123-19-1176      A     Yangon      Customer         Health and beauty   \n",
       "4  373-73-7910      A     Yangon        Normal         Sports and travel   \n",
       "\n",
       "   Unit price  Quantity Review Quantity  Check Tax 5%     Total        Date  \\\n",
       "0       67.99       7.0               7    NaN  23.8%   $475.93    1/5/2019   \n",
       "1       15.28       5.0               5    NaN   3.8%    $76.40    3/8/2019   \n",
       "2       46.33       7.0               7    NaN  16.2%   $324.31    3/3/2019   \n",
       "3       58.22       8.0               8    NaN  23.3%   $465.76   1/27/2019   \n",
       "4       86.31       7.0               7    NaN  30.2%   $604.17    2/8/2019   \n",
       "\n",
       "          Time      Payment    cogs  gross margin percentage  gross income  \\\n",
       "0   1:08:00 PM      Ewallet  522.83                 4.761905       26.1415   \n",
       "1  10:29:00 AM         Cash   76.40                 4.761905        3.8200   \n",
       "2   1:23:00 PM  Credit card  324.31                      NaN       16.2155   \n",
       "3   8:33:00 PM      Ewallet  465.76                 4.761905       23.2880   \n",
       "4  10:37:00 AM      Ewallet  604.17                 4.761905       30.2085   \n",
       "\n",
       "   Rating  \n",
       "0     9.1  \n",
       "1     9.6  \n",
       "2     7.4  \n",
       "3     8.4  \n",
       "4     5.3  "
      ]
     },
     "execution_count": 40,
     "metadata": {},
     "output_type": "execute_result"
    }
   ],
   "source": [
    "df.head()"
   ]
  },
  {
   "cell_type": "code",
   "execution_count": 41,
   "id": "820fd0e4-a9ff-41d7-a622-562d0d03a809",
   "metadata": {},
   "outputs": [
    {
     "data": {
      "text/plain": [
       "(1002, 18)"
      ]
     },
     "execution_count": 41,
     "metadata": {},
     "output_type": "execute_result"
    }
   ],
   "source": [
    "df.shape"
   ]
  },
  {
   "cell_type": "code",
   "execution_count": 42,
   "id": "475b29fb-187a-47e1-bfb3-ae6bd53ab87d",
   "metadata": {},
   "outputs": [
    {
     "name": "stdout",
     "output_type": "stream",
     "text": [
      "the number of rows in this dataset is: 1002 Rows\n"
     ]
    }
   ],
   "source": [
    "print(\"the number of rows in this dataset is:\",df.shape[0], \"Rows\")"
   ]
  },
  {
   "cell_type": "code",
   "execution_count": 43,
   "id": "00de0c2a-486f-4425-a18d-67d35e23be3e",
   "metadata": {},
   "outputs": [
    {
     "name": "stdout",
     "output_type": "stream",
     "text": [
      "the number of rows in this dataset is: 18 Columns\n"
     ]
    }
   ],
   "source": [
    "print(\"the number of rows in this dataset is:\",df.shape[1], \"Columns\")"
   ]
  },
  {
   "cell_type": "code",
   "execution_count": 44,
   "id": "ef0675f7-4143-4831-9dd5-445dc9dbd537",
   "metadata": {},
   "outputs": [
    {
     "data": {
      "text/plain": [
       "Invoice ID                    2\n",
       "Branch                        2\n",
       "City                          2\n",
       "Customer type                 2\n",
       "Product line                  2\n",
       "Unit price                    1\n",
       "Quantity                      2\n",
       "Review Quantity               1\n",
       "Check                      1002\n",
       "Tax 5%                        2\n",
       " Total                        1\n",
       "Date                          2\n",
       "Time                          2\n",
       "Payment                       2\n",
       "cogs                          2\n",
       "gross margin percentage       4\n",
       "gross income                  2\n",
       "Rating                        2\n",
       "dtype: int64"
      ]
     },
     "execution_count": 44,
     "metadata": {},
     "output_type": "execute_result"
    }
   ],
   "source": [
    "df.isnull().sum()"
   ]
  },
  {
   "cell_type": "code",
   "execution_count": 45,
   "id": "c0586bfb-1e26-4cca-bc95-e8132fa30af8",
   "metadata": {},
   "outputs": [
    {
     "data": {
      "text/html": [
       "<div>\n",
       "<style scoped>\n",
       "    .dataframe tbody tr th:only-of-type {\n",
       "        vertical-align: middle;\n",
       "    }\n",
       "\n",
       "    .dataframe tbody tr th {\n",
       "        vertical-align: top;\n",
       "    }\n",
       "\n",
       "    .dataframe thead th {\n",
       "        text-align: right;\n",
       "    }\n",
       "</style>\n",
       "<table border=\"1\" class=\"dataframe\">\n",
       "  <thead>\n",
       "    <tr style=\"text-align: right;\">\n",
       "      <th></th>\n",
       "      <th>Invoice ID</th>\n",
       "      <th>Branch</th>\n",
       "      <th>City</th>\n",
       "      <th>Customer type</th>\n",
       "      <th>Product line</th>\n",
       "      <th>Unit price</th>\n",
       "      <th>Quantity</th>\n",
       "      <th>Review Quantity</th>\n",
       "      <th>Check</th>\n",
       "      <th>Tax 5%</th>\n",
       "      <th>Total</th>\n",
       "      <th>Date</th>\n",
       "      <th>Time</th>\n",
       "      <th>Payment</th>\n",
       "      <th>cogs</th>\n",
       "      <th>gross margin percentage</th>\n",
       "      <th>gross income</th>\n",
       "      <th>Rating</th>\n",
       "    </tr>\n",
       "  </thead>\n",
       "  <tbody>\n",
       "  </tbody>\n",
       "</table>\n",
       "</div>"
      ],
      "text/plain": [
       "Empty DataFrame\n",
       "Columns: [Invoice ID, Branch, City, Customer type, Product line, Unit price, Quantity, Review Quantity, Check, Tax 5%,  Total , Date, Time, Payment, cogs, gross margin percentage, gross income, Rating]\n",
       "Index: []"
      ]
     },
     "execution_count": 45,
     "metadata": {},
     "output_type": "execute_result"
    }
   ],
   "source": [
    "df.dropna()"
   ]
  },
  {
   "cell_type": "code",
   "execution_count": 18,
   "id": "4ce34f77-afd6-4e93-8365-35dff21e1bcf",
   "metadata": {},
   "outputs": [
    {
     "name": "stdout",
     "output_type": "stream",
     "text": [
      "<class 'pandas.core.frame.DataFrame'>\n",
      "RangeIndex: 5 entries, 0 to 4\n",
      "Data columns (total 18 columns):\n",
      " #   Column                   Non-Null Count  Dtype  \n",
      "---  ------                   --------------  -----  \n",
      " 0   Invoice ID               5 non-null      object \n",
      " 1   Branch                   5 non-null      object \n",
      " 2   City                     5 non-null      object \n",
      " 3   Customer type            5 non-null      object \n",
      " 4   Product line             5 non-null      object \n",
      " 5   Unit price               5 non-null      float64\n",
      " 6   Quantity                 5 non-null      float64\n",
      " 7   Review Quantity          5 non-null      int64  \n",
      " 8   Check                    0 non-null      float64\n",
      " 9   Tax 5%                   5 non-null      object \n",
      " 10  Total                    5 non-null      object \n",
      " 11  Date                     5 non-null      object \n",
      " 12  Time                     5 non-null      object \n",
      " 13  Payment                  5 non-null      object \n",
      " 14  cogs                     5 non-null      float64\n",
      " 15  gross margin percentage  4 non-null      float64\n",
      " 16  gross income             5 non-null      float64\n",
      " 17  Rating                   5 non-null      float64\n",
      "dtypes: float64(7), int64(1), object(10)\n",
      "memory usage: 852.0+ bytes\n"
     ]
    }
   ],
   "source": [
    "df.info()"
   ]
  },
  {
   "cell_type": "code",
   "execution_count": null,
   "id": "f9540a2b-5e02-49db-997f-00ab7ffb3880",
   "metadata": {},
   "outputs": [],
   "source": [
    "df"
   ]
  },
  {
   "cell_type": "markdown",
   "id": "cd0394d8-61b1-49f1-bae6-a76413271352",
   "metadata": {},
   "source": [
    "where you are not sure of you heading e.g review quantity, go to Google. it is obvious the datatype is an object instead of a number. \n",
    "so we can change the data type. "
   ]
  },
  {
   "cell_type": "markdown",
   "id": "66c5513d-e5d1-4fbd-8526-1a489ec4c975",
   "metadata": {},
   "source": [
    "The analysis you are meant to carry out determines the columns you are going retain. This will determine our logical understanding of data."
   ]
  },
  {
   "cell_type": "markdown",
   "id": "5bf1fd23-1df5-4dfe-93c2-e8f6d9a8cac9",
   "metadata": {},
   "source": [
    "#### Invoice id: Computer-generated sales slip invoice identification number\n",
    "\n",
    "#### Branch: Branch of supercenter \n",
    "#### (3 branches are available identified by A, B and C).\n",
    "\n",
    "#### City: Location of supercenters\n",
    "\n",
    "#### Customer type: Type of customers, recorded \n",
    "#### by Members for customers using member card \n",
    "#### and Normal for without member card.\n",
    "\n",
    "#### Gender: Gender type of customer\n",
    "\n",
    "###Product line: General item categorization groups \n",
    "###— Electronic accessories, Fashion accessories, \n",
    "###Food and beverages, Health and beauty, Home \n",
    "###and lifestyle, Sports and travel\n",
    "\n",
    "###Unit price: Price of each product in $\n",
    "\n",
    "###Quantity: Number of products purchased by customer\n",
    "\n",
    "###Tax: 5% tax fee for customer buying\n",
    "\n",
    "###Total: Total price including tax\n",
    "\n",
    "###Date: Date of purchase (Record available from January 2019 to March 2019)\n",
    "\n",
    "###Time: Purchase time (10am to 9pm)\n",
    "\n",
    "###Payment: Payment used by customer for purchase \n",
    "###(3 methods are available — Cash, Credit card and Ewallet)\n",
    "\n",
    "###COGS: Cost of goods sold\n",
    "\n",
    "###Gross margin percentage: Gross margin percentage\n",
    "\n",
    "###Gross income: Gross income\n",
    "\n",
    "###Rating: Customer stratification rating on their \n",
    "###overall shopping experience (On a scale of 1 to 10)"
   ]
  },
  {
   "cell_type": "markdown",
   "id": "941b9f94-1d29-4dad-bd7b-6df0c282cd4d",
   "metadata": {},
   "source": [
    "# Univariate Analysis \n",
    "###1. Find aggregate sales among branches (categorical column)"
   ]
  },
  {
   "cell_type": "markdown",
   "id": "f5ca91f9-9abd-484b-879e-1153453cf367",
   "metadata": {},
   "source": [
    "###2. Find the Most popular payment method used by customers (Categorical Column)"
   ]
  },
  {
   "cell_type": "markdown",
   "id": "bad15630-c15a-4e1a-81c8-0112d68bdcb0",
   "metadata": {},
   "source": [
    "###3. Find the distribution of customer Ratings  (Numerical Column)"
   ]
  },
  {
   "cell_type": "markdown",
   "id": "29da038d-e160-4078-9999-46c5f088df9f",
   "metadata": {},
   "source": [
    "###4. Find the distribution of Cost of Goods Sold (Numerical Column)"
   ]
  },
  {
   "cell_type": "markdown",
   "id": "3b03985f-33c4-41c2-b7a1-9e5b94d1c401",
   "metadata": {},
   "source": [
    "###5. Bivariate Analysis/Multivariate Analysis "
   ]
  },
  {
   "cell_type": "markdown",
   "id": "4fdd5337-04d0-4e00-97a5-58db3aa5cdb0",
   "metadata": {},
   "source": [
    "###1. Does the cost of goods sold affect the Rating that the customers provide? (Numerical - Numerical)"
   ]
  },
  {
   "cell_type": "markdown",
   "id": "8bf71c07-5db2-4277-a06d-0044e7ea656a",
   "metadata": {},
   "source": [
    "###6. Does gross income affect the Ratings that the customer provides? Numerical - Numerical "
   ]
  },
  {
   "cell_type": "markdown",
   "id": "5a2188b8-a3ff-4df2-b3c8-6d4c1b1a098e",
   "metadata": {},
   "source": [
    "###7. Find the most profitable branch as per gross income (numerical - categorical)"
   ]
  },
  {
   "cell_type": "markdown",
   "id": "89e31a28-4290-479d-93f4-83c9abd06a68",
   "metadata": {},
   "source": [
    "###8. Is there any relationship between gender and gross income? (Numerical - Categorical)"
   ]
  },
  {
   "cell_type": "markdown",
   "id": "6c355d9d-40e3-4c56-89af-ccd7eb7009b6",
   "metadata": {},
   "source": [
    "###9.Find the product line that generates the most income (Numerical - Categorical)"
   ]
  },
  {
   "cell_type": "markdown",
   "id": "38c0e7d4-57ed-44c9-980d-c77ddc5cd949",
   "metadata": {},
   "source": [
    "###10. Find the highest unit price in the product line (Numerical - Categorical) "
   ]
  },
  {
   "cell_type": "markdown",
   "id": "293c05ff-0979-416e-bcfc-ff0ea03c5fde",
   "metadata": {},
   "source": [
    "###12. Find different payment method used by customers citywise (Categorical - Categorical )"
   ]
  },
  {
   "cell_type": "markdown",
   "id": "4d2f88e5-ae9c-4dd8-9c8b-63ac43b52472",
   "metadata": {},
   "source": [
    "###13. Which product line is purchased in the highest quantity? "
   ]
  },
  {
   "cell_type": "code",
   "execution_count": 22,
   "id": "fe37bb7f-7f87-46b8-9055-64ad7df75a02",
   "metadata": {},
   "outputs": [
    {
     "data": {
      "text/plain": [
       "Index(['Invoice ID', 'Branch', 'City', 'Customer type', 'Product line',\n",
       "       'Unit price', 'Quantity', 'Review Quantity', 'Check', 'Tax 5%', 'Total',\n",
       "       'Date', 'Time', 'Payment', 'cogs', 'gross margin percentage',\n",
       "       'gross income', 'Rating'],\n",
       "      dtype='object')"
      ]
     },
     "execution_count": 22,
     "metadata": {},
     "output_type": "execute_result"
    }
   ],
   "source": [
    "df.columns"
   ]
  },
  {
   "cell_type": "code",
   "execution_count": 23,
   "id": "369d48ed-4164-4942-b35b-39be583999fc",
   "metadata": {},
   "outputs": [
    {
     "data": {
      "text/plain": [
       "4"
      ]
     },
     "execution_count": 23,
     "metadata": {},
     "output_type": "execute_result"
    }
   ],
   "source": [
    "df['Product line'].nunique()"
   ]
  },
  {
   "cell_type": "code",
   "execution_count": 24,
   "id": "769f5e3a-17b8-4a7f-a283-a4fa74c19d6d",
   "metadata": {},
   "outputs": [
    {
     "data": {
      "text/plain": [
       "array(['Health and beauty', 'Electronic \\naccessories',\n",
       "       'Home and lifestyle', 'Sports and travel'], dtype=object)"
      ]
     },
     "execution_count": 24,
     "metadata": {},
     "output_type": "execute_result"
    }
   ],
   "source": [
    "df['Product line'].unique()"
   ]
  },
  {
   "cell_type": "code",
   "execution_count": 25,
   "id": "204f735b-caa4-4b1b-88d5-802c233365bd",
   "metadata": {},
   "outputs": [
    {
     "data": {
      "text/plain": [
       "array(['Ewallet', 'Cash', 'Credit card'], dtype=object)"
      ]
     },
     "execution_count": 25,
     "metadata": {},
     "output_type": "execute_result"
    }
   ],
   "source": [
    "df['Payment'].unique()"
   ]
  },
  {
   "cell_type": "code",
   "execution_count": 26,
   "id": "231bc6d4-ed01-49dd-8b6c-53928b07b034",
   "metadata": {},
   "outputs": [],
   "source": [
    "cat=[]\n",
    "num=[]\n",
    "for column in df.columns:\n",
    "    if df[column].nunique()>10:\n",
    "        num.append(column)\n",
    "    else:\n",
    "        cat.append(column)"
   ]
  },
  {
   "cell_type": "code",
   "execution_count": 27,
   "id": "f594d10b-2f6f-4c03-823d-f7241a58612a",
   "metadata": {},
   "outputs": [
    {
     "data": {
      "text/plain": [
       "['Invoice ID',\n",
       " 'Branch',\n",
       " 'City',\n",
       " 'Customer type',\n",
       " 'Product line',\n",
       " 'Unit price',\n",
       " 'Quantity',\n",
       " 'Review Quantity',\n",
       " 'Check',\n",
       " 'Tax 5%',\n",
       " 'Total',\n",
       " 'Date',\n",
       " 'Time',\n",
       " 'Payment',\n",
       " 'cogs',\n",
       " 'gross margin percentage',\n",
       " 'gross income',\n",
       " 'Rating']"
      ]
     },
     "execution_count": 27,
     "metadata": {},
     "output_type": "execute_result"
    }
   ],
   "source": [
    "cat"
   ]
  },
  {
   "cell_type": "code",
   "execution_count": 28,
   "id": "a5dcd81b-f4bf-4c60-b9b5-c2ebeaa2f91a",
   "metadata": {},
   "outputs": [
    {
     "data": {
      "text/plain": [
       "[]"
      ]
     },
     "execution_count": 28,
     "metadata": {},
     "output_type": "execute_result"
    }
   ],
   "source": [
    "num"
   ]
  },
  {
   "cell_type": "markdown",
   "id": "964c80a8-80d4-48f7-9f3b-292b364826de",
   "metadata": {},
   "source": [
    "## Answer to Question 1"
   ]
  },
  {
   "cell_type": "code",
   "execution_count": 29,
   "id": "74f53026-7da9-4202-a4bc-af6fd30f4f09",
   "metadata": {},
   "outputs": [
    {
     "data": {
      "text/plain": [
       "Branch\n",
       "A       3\n",
       "R1C1    1\n",
       "C       1\n",
       "Name: count, dtype: int64"
      ]
     },
     "execution_count": 29,
     "metadata": {},
     "output_type": "execute_result"
    }
   ],
   "source": [
    "df['Branch'].value_counts()"
   ]
  },
  {
   "cell_type": "code",
   "execution_count": 32,
   "id": "28537925-2a0b-444e-8b0a-37b887b56be2",
   "metadata": {},
   "outputs": [
    {
     "ename": "NameError",
     "evalue": "name 'sns' is not defined",
     "output_type": "error",
     "traceback": [
      "\u001b[1;31m---------------------------------------------------------------------------\u001b[0m",
      "\u001b[1;31mNameError\u001b[0m                                 Traceback (most recent call last)",
      "Cell \u001b[1;32mIn[32], line 1\u001b[0m\n\u001b[1;32m----> 1\u001b[0m sns\u001b[38;5;241m.\u001b[39mcountplot(data\u001b[38;5;241m=\u001b[39mdf, x \u001b[38;5;241m=\u001b[39m \u001b[38;5;124m'\u001b[39m\u001b[38;5;124mBranch\u001b[39m\u001b[38;5;124m'\u001b[39m)\n\u001b[0;32m      2\u001b[0m cleaned_df \u001b[38;5;241m=\u001b[39m df[df[\u001b[38;5;124m'\u001b[39m\u001b[38;5;124mBranch\u001b[39m\u001b[38;5;124m'\u001b[39m] \u001b[38;5;241m!=\u001b[39m \u001b[38;5;124m'\u001b[39m\u001b[38;5;124mR1C1\u001b[39m\u001b[38;5;124m'\u001b[39m]\n\u001b[0;32m      3\u001b[0m df\u001b[38;5;241m.\u001b[39mdrop(df[df[\u001b[38;5;124m'\u001b[39m\u001b[38;5;124mBranch\u001b[39m\u001b[38;5;124m'\u001b[39m]\u001b[38;5;241m==\u001b[39m\u001b[38;5;124m'\u001b[39m\u001b[38;5;124mR1C1\u001b[39m\u001b[38;5;124m'\u001b[39m]\u001b[38;5;241m.\u001b[39mindex, inplace\u001b[38;5;241m=\u001b[39m\u001b[38;5;28;01mTrue\u001b[39;00m)\n",
      "\u001b[1;31mNameError\u001b[0m: name 'sns' is not defined"
     ]
    }
   ],
   "source": [
    "sns.countplot(data=df, x = 'Branch')\n",
    "cleaned_df = df[df['Branch'] != 'R1C1']\n",
    "df.drop(df[df['Branch']=='R1C1'].index, inplace=True)"
   ]
  },
  {
   "cell_type": "code",
   "execution_count": 33,
   "id": "7dae501b-11af-465b-89cf-e658e75b5c0f",
   "metadata": {},
   "outputs": [
    {
     "data": {
      "text/plain": [
       "array(['R1C1', 'C', 'A'], dtype=object)"
      ]
     },
     "execution_count": 33,
     "metadata": {},
     "output_type": "execute_result"
    }
   ],
   "source": [
    "df['Branch'].unique()"
   ]
  },
  {
   "cell_type": "markdown",
   "id": "3ceb8fc1-724b-4db9-8ddf-d1bfbc4ee79b",
   "metadata": {},
   "source": [
    "### Rules of Visualization\n",
    "The first one is comparison. We use comparison when we want to compare unique values. bar chart, line chart (time). Pie chart may be used as well. \n",
    "The second is relationship. This is usually for multivariate and bivariate analysis. In rear cases, we use a bar chart for the relationship\n",
    "Scatter plot for analytical problems\n",
    "The third one is distribution, How a sample data is distributed across a region or a space. We can use box plot. another one is a histogram \n",
    "The Fourth one is composition, Pie chart is used for the sector aggregate of participation in an event, e.g election"
   ]
  },
  {
   "cell_type": "code",
   "execution_count": null,
   "id": "f08b9fa7-a2ff-4b80-a982-e114cf5690cd",
   "metadata": {},
   "outputs": [],
   "source": []
  }
 ],
 "metadata": {
  "kernelspec": {
   "display_name": "Python 3 (ipykernel)",
   "language": "python",
   "name": "python3"
  },
  "language_info": {
   "codemirror_mode": {
    "name": "ipython",
    "version": 3
   },
   "file_extension": ".py",
   "mimetype": "text/x-python",
   "name": "python",
   "nbconvert_exporter": "python",
   "pygments_lexer": "ipython3",
   "version": "3.11.7"
  }
 },
 "nbformat": 4,
 "nbformat_minor": 5
}
